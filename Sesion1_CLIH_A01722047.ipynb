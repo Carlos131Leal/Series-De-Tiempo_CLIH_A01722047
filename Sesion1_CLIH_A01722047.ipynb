{
  "nbformat": 4,
  "nbformat_minor": 0,
  "metadata": {
    "colab": {
      "provenance": [],
      "authorship_tag": "ABX9TyPHBZ/U9mS0LseT+gbdWVNZ",
      "include_colab_link": true
    },
    "kernelspec": {
      "name": "python3",
      "display_name": "Python 3"
    },
    "language_info": {
      "name": "python"
    }
  },
  "cells": [
    {
      "cell_type": "markdown",
      "metadata": {
        "id": "view-in-github",
        "colab_type": "text"
      },
      "source": [
        "<a href=\"https://colab.research.google.com/github/Carlos131Leal/Series-De-Tiempo_CLIH_A01722047/blob/main/Sesion1_CLIH_A01722047.ipynb\" target=\"_parent\"><img src=\"https://colab.research.google.com/assets/colab-badge.svg\" alt=\"Open In Colab\"/></a>"
      ]
    },
    {
      "cell_type": "code",
      "execution_count": null,
      "metadata": {
        "id": "J1V5U7tie35D"
      },
      "outputs": [],
      "source": []
    },
    {
      "cell_type": "markdown",
      "source": [
        "#Series de Tiempo\n",
        "## Carlos Andres Leal Isla Horvath A01722047\n",
        "### Sesion 1, 14 Febrero"
      ],
      "metadata": {
        "id": "VE4ZVSOPe5aL"
      }
    },
    {
      "cell_type": "code",
      "source": [
        "Variable1 = 3"
      ],
      "metadata": {
        "id": "W6rTa-y5fJGg"
      },
      "execution_count": null,
      "outputs": []
    },
    {
      "cell_type": "code",
      "source": [
        "Variable1"
      ],
      "metadata": {
        "colab": {
          "base_uri": "https://localhost:8080/"
        },
        "id": "ZOInrPbmfPZT",
        "outputId": "468cb818-c849-404c-a9f4-be56c5aac8df"
      },
      "execution_count": null,
      "outputs": [
        {
          "output_type": "execute_result",
          "data": {
            "text/plain": [
              "3"
            ]
          },
          "metadata": {},
          "execution_count": 3
        }
      ]
    },
    {
      "cell_type": "code",
      "source": [
        "Variable2= 5.8"
      ],
      "metadata": {
        "id": "BWVCdl1UfTs8"
      },
      "execution_count": null,
      "outputs": []
    },
    {
      "cell_type": "code",
      "source": [
        "Variable2"
      ],
      "metadata": {
        "colab": {
          "base_uri": "https://localhost:8080/"
        },
        "id": "0b-FO3iPfaJM",
        "outputId": "81f8e4dd-afa4-4001-b0f5-d146300cb010"
      },
      "execution_count": null,
      "outputs": [
        {
          "output_type": "execute_result",
          "data": {
            "text/plain": [
              "5.8"
            ]
          },
          "metadata": {},
          "execution_count": 8
        }
      ]
    },
    {
      "cell_type": "code",
      "source": [
        "Variable3 = \"Carlos\""
      ],
      "metadata": {
        "id": "S_GMy2zVfc45"
      },
      "execution_count": null,
      "outputs": []
    },
    {
      "cell_type": "code",
      "source": [
        "print(\"Yo soy \", Variable3)"
      ],
      "metadata": {
        "colab": {
          "base_uri": "https://localhost:8080/"
        },
        "id": "eER10mayfgrc",
        "outputId": "ac7ab0fb-1490-46f9-dd31-48cae246065f"
      },
      "execution_count": null,
      "outputs": [
        {
          "output_type": "stream",
          "name": "stdout",
          "text": [
            "Yo soy  Carlos\n"
          ]
        }
      ]
    },
    {
      "cell_type": "code",
      "source": [
        "type(Variable1)"
      ],
      "metadata": {
        "colab": {
          "base_uri": "https://localhost:8080/"
        },
        "id": "Nr8a3s9ifkw_",
        "outputId": "20c09ae6-7db4-47b8-e262-e72dce29c684"
      },
      "execution_count": null,
      "outputs": [
        {
          "output_type": "execute_result",
          "data": {
            "text/plain": [
              "int"
            ]
          },
          "metadata": {},
          "execution_count": 15
        }
      ]
    },
    {
      "cell_type": "code",
      "source": [
        "type(Variable2)"
      ],
      "metadata": {
        "colab": {
          "base_uri": "https://localhost:8080/"
        },
        "id": "rREdyl2_fuyQ",
        "outputId": "30999f56-09c6-4e5b-aef7-f1d7d0e7717d"
      },
      "execution_count": null,
      "outputs": [
        {
          "output_type": "execute_result",
          "data": {
            "text/plain": [
              "float"
            ]
          },
          "metadata": {},
          "execution_count": 17
        }
      ]
    },
    {
      "cell_type": "code",
      "source": [
        "type(Variable3)"
      ],
      "metadata": {
        "colab": {
          "base_uri": "https://localhost:8080/"
        },
        "id": "LKyovH4xfxlF",
        "outputId": "84021458-1c2a-450e-9b22-2e95a17837f6"
      },
      "execution_count": null,
      "outputs": [
        {
          "output_type": "execute_result",
          "data": {
            "text/plain": [
              "str"
            ]
          },
          "metadata": {},
          "execution_count": 19
        }
      ]
    },
    {
      "cell_type": "code",
      "source": [
        "Variable1 + Variable2"
      ],
      "metadata": {
        "colab": {
          "base_uri": "https://localhost:8080/"
        },
        "id": "Qt6NzYH0f0Zf",
        "outputId": "8410f500-f721-4e00-c2cc-f97e382b7bd6"
      },
      "execution_count": null,
      "outputs": [
        {
          "output_type": "execute_result",
          "data": {
            "text/plain": [
              "8.8"
            ]
          },
          "metadata": {},
          "execution_count": 20
        }
      ]
    },
    {
      "cell_type": "code",
      "source": [
        "print(\"La suma es\", Variable1 + Variable2)"
      ],
      "metadata": {
        "colab": {
          "base_uri": "https://localhost:8080/"
        },
        "id": "AU4ZcwuUf3-p",
        "outputId": "0fa95279-a303-483b-efac-ae3070d5867c"
      },
      "execution_count": null,
      "outputs": [
        {
          "output_type": "stream",
          "name": "stdout",
          "text": [
            "La suma es 8.8\n"
          ]
        }
      ]
    },
    {
      "cell_type": "code",
      "source": [
        "MiFamilia = (\"Carlos\", \"Rebeca\", \"Sofia\")"
      ],
      "metadata": {
        "id": "iLrUv0MagCX9"
      },
      "execution_count": null,
      "outputs": []
    },
    {
      "cell_type": "code",
      "source": [
        "print(MiFamilia)"
      ],
      "metadata": {
        "colab": {
          "base_uri": "https://localhost:8080/"
        },
        "id": "JgotfS6tgPZI",
        "outputId": "b4c713be-cf93-43ba-ef7a-03c662a88477"
      },
      "execution_count": null,
      "outputs": [
        {
          "output_type": "stream",
          "name": "stdout",
          "text": [
            "('Carlos', 'Rebeca', 'Sofia')\n"
          ]
        }
      ]
    }
  ]
}